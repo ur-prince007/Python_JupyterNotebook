{
  "nbformat": 4,
  "nbformat_minor": 0,
  "metadata": {
    "colab": {
      "provenance": []
    },
    "kernelspec": {
      "name": "python3",
      "display_name": "Python 3"
    },
    "language_info": {
      "name": "python"
    }
  },
  "cells": [
    {
      "cell_type": "markdown",
      "source": [
        "## Import the libaraies"
      ],
      "metadata": {
        "id": "e-skl_l4YHy2"
      }
    },
    {
      "cell_type": "code",
      "execution_count": 41,
      "metadata": {
        "colab": {
          "base_uri": "https://localhost:8080/"
        },
        "id": "IUwd0Aj0X8Kv",
        "outputId": "a9b66ae6-0f77-4d26-cd69-6779b3ea1288"
      },
      "outputs": [
        {
          "output_type": "stream",
          "name": "stdout",
          "text": [
            "Requirement already satisfied: pyspark in /usr/local/lib/python3.10/dist-packages (3.5.0)\n",
            "Requirement already satisfied: py4j==0.10.9.7 in /usr/local/lib/python3.10/dist-packages (from pyspark) (0.10.9.7)\n"
          ]
        }
      ],
      "source": [
        "pip install pyspark"
      ]
    },
    {
      "cell_type": "code",
      "source": [
        "import numpy as np\n",
        "import pandas as pd\n",
        "import matplotlib.pyplot as plt\n",
        "import seaborn as sns\n",
        "import pyspark\n",
        "from pyspark.sql import SparkSession\n",
        "from pyspark.sql import *"
      ],
      "metadata": {
        "id": "4BOF-vETX_Gt"
      },
      "execution_count": 42,
      "outputs": []
    },
    {
      "cell_type": "code",
      "source": [
        "spark = SparkSession.builder.getOrCreate()\n",
        "print(spark.version)"
      ],
      "metadata": {
        "colab": {
          "base_uri": "https://localhost:8080/"
        },
        "id": "NiLwiAZdzxuJ",
        "outputId": "6c96af3c-c20a-4b26-f8a5-a7409f529808"
      },
      "execution_count": 43,
      "outputs": [
        {
          "output_type": "stream",
          "name": "stdout",
          "text": [
            "3.5.0\n"
          ]
        }
      ]
    },
    {
      "cell_type": "code",
      "source": [
        "df = spark.read.option('header',True).option('inferschema',True).csv('/content/ipl_2022_dataset.csv')\n",
        "df.show()"
      ],
      "metadata": {
        "colab": {
          "base_uri": "https://localhost:8080/"
        },
        "id": "9nHJU2m41_fs",
        "outputId": "5d7d8620-dbb3-4b4f-960a-264e1514b612"
      },
      "execution_count": 44,
      "outputs": [
        {
          "output_type": "stream",
          "name": "stdout",
          "text": [
            "+---+-------------------+----------+------------+---------------+---------------+----------+--------------+\n",
            "|_c0|             Player|Base Price|        TYPE|COST IN ₹ (CR.)|Cost IN $ (000)|2021 Squad|          Team|\n",
            "+---+-------------------+----------+------------+---------------+---------------+----------+--------------+\n",
            "|  0|        Rashid Khan|Draft Pick|      BOWLER|           15.0|         1950.0|       SRH|Gujarat Titans|\n",
            "|  1|      Hardik Pandya|Draft Pick| ALL-ROUNDER|           15.0|         1950.0|        MI|Gujarat Titans|\n",
            "|  2|    Lockie Ferguson|      2 Cr|      BOWLER|           10.0|         1300.0|       KKR|Gujarat Titans|\n",
            "|  3|      Rahul Tewatia|   40 Lakh| ALL-ROUNDER|            9.0|         1170.0|        RR|Gujarat Titans|\n",
            "|  4|       Shubman Gill|Draft Pick|      BATTER|            8.0|         1040.0|       KKR|Gujarat Titans|\n",
            "|  5|     Mohammad Shami|      2 Cr|      BOWLER|           6.25|          812.5|      PBKS|Gujarat Titans|\n",
            "|  6|         Yash Dayal|   20 Lakh|      BOWLER|            3.2|          416.0|      NULL|Gujarat Titans|\n",
            "|  7|       David Miller|      1 Cr|      BATTER|            3.0|          390.0|        RR|Gujarat Titans|\n",
            "|  8|     R. Sai Kishore|   20 Lakh|      BOWLER|            3.0|          390.0|       CSK|Gujarat Titans|\n",
            "|  9|Abhinav Sadarangani|   20 Lakh|      BATTER|            2.6|          338.0|      NULL|Gujarat Titans|\n",
            "| 10|       Matthew Wade|      2 Cr|WICKETKEEPER|            2.4|          312.0|      NULL|Gujarat Titans|\n",
            "| 11|     Alzarri Joseph|   75 Lakh|      BOWLER|            2.4|          312.0|      NULL|Gujarat Titans|\n",
            "| 12|          Jason Roy|      2 Cr|      BATTER|            2.0|          260.0|       SRH|Gujarat Titans|\n",
            "| 13|    Wriddhiman Saha|      1 Cr|WICKETKEEPER|            1.9|          247.0|       SRH|Gujarat Titans|\n",
            "| 14|       Jayant Yadav|      1 Cr| ALL-ROUNDER|            1.7|          221.0|        MI|Gujarat Titans|\n",
            "| 15|      Vijay Shankar|   50 Lakh| ALL-ROUNDER|            1.4|          182.0|       SRH|Gujarat Titans|\n",
            "| 16|     Dominic Drakes|   75 Lakh| ALL-ROUNDER|            1.1|          143.0|       CSK|Gujarat Titans|\n",
            "| 17|        Varun Aaron|   50 Lakh|      BOWLER|            0.5|           65.0|      NULL|Gujarat Titans|\n",
            "| 18|    Gurkeerat Singh|   50 Lakh| ALL-ROUNDER|            0.5|           65.0|       KKR|Gujarat Titans|\n",
            "| 19|         Noor Ahmad|   30 Lakh|      BOWLER|            0.3|           39.0|      NULL|Gujarat Titans|\n",
            "+---+-------------------+----------+------------+---------------+---------------+----------+--------------+\n",
            "only showing top 20 rows\n",
            "\n"
          ]
        }
      ]
    },
    {
      "cell_type": "markdown",
      "source": [
        "# Data Preprocessing"
      ],
      "metadata": {
        "id": "vph8lDsLPZMN"
      }
    },
    {
      "cell_type": "code",
      "source": [
        "df.printSchema()"
      ],
      "metadata": {
        "colab": {
          "base_uri": "https://localhost:8080/"
        },
        "id": "ZQRZ-X2R2Ea-",
        "outputId": "69bc8bc0-727a-4931-a0f9-2ef24d729915"
      },
      "execution_count": 45,
      "outputs": [
        {
          "output_type": "stream",
          "name": "stdout",
          "text": [
            "root\n",
            " |-- _c0: integer (nullable = true)\n",
            " |-- Player: string (nullable = true)\n",
            " |-- Base Price: string (nullable = true)\n",
            " |-- TYPE: string (nullable = true)\n",
            " |-- COST IN ₹ (CR.): double (nullable = true)\n",
            " |-- Cost IN $ (000): double (nullable = true)\n",
            " |-- 2021 Squad: string (nullable = true)\n",
            " |-- Team: string (nullable = true)\n",
            "\n"
          ]
        }
      ]
    },
    {
      "cell_type": "code",
      "source": [
        "print('Rows:', df.count())\n",
        "print('Columns:', len(df.columns))"
      ],
      "metadata": {
        "colab": {
          "base_uri": "https://localhost:8080/"
        },
        "id": "_fPdTCbg2E2k",
        "outputId": "509a2388-6ac6-4417-f59d-20a56a768e7d"
      },
      "execution_count": 46,
      "outputs": [
        {
          "output_type": "stream",
          "name": "stdout",
          "text": [
            "Rows: 633\n",
            "Columns: 8\n"
          ]
        }
      ]
    },
    {
      "cell_type": "markdown",
      "source": [
        "# EDA"
      ],
      "metadata": {
        "id": "9i7eimVDbQm2"
      }
    },
    {
      "cell_type": "code",
      "source": [
        "df.select('Type').distinct().collect()"
      ],
      "metadata": {
        "colab": {
          "base_uri": "https://localhost:8080/"
        },
        "id": "HsnNeR7A2E6H",
        "outputId": "6595e33f-940f-42ac-95ce-3876a5878bf2"
      },
      "execution_count": 47,
      "outputs": [
        {
          "output_type": "execute_result",
          "data": {
            "text/plain": [
              "[Row(Type='WICKETKEEPER'),\n",
              " Row(Type='BOWLER'),\n",
              " Row(Type='ALL-ROUNDER'),\n",
              " Row(Type='BATTER')]"
            ]
          },
          "metadata": {},
          "execution_count": 47
        }
      ]
    },
    {
      "cell_type": "code",
      "source": [
        "df.groupBy('Type').count().show()"
      ],
      "metadata": {
        "colab": {
          "base_uri": "https://localhost:8080/"
        },
        "id": "5qFADeTebNP_",
        "outputId": "08fc6bc4-5a84-4f46-9229-2ed22d881fdf"
      },
      "execution_count": 48,
      "outputs": [
        {
          "output_type": "stream",
          "name": "stdout",
          "text": [
            "+------------+-----+\n",
            "|        Type|count|\n",
            "+------------+-----+\n",
            "|WICKETKEEPER|   64|\n",
            "|      BOWLER|  215|\n",
            "| ALL-ROUNDER|  242|\n",
            "|      BATTER|  112|\n",
            "+------------+-----+\n",
            "\n"
          ]
        }
      ]
    },
    {
      "cell_type": "markdown",
      "source": [
        "There are total 64 Wicketkeepers, 215 bowlers, 242 All rounders and 112 batsmen in the list."
      ],
      "metadata": {
        "id": "Vhq5IjMNP4KU"
      }
    },
    {
      "cell_type": "code",
      "source": [
        "df.groupBy('2021 Squad').count().show()"
      ],
      "metadata": {
        "colab": {
          "base_uri": "https://localhost:8080/"
        },
        "id": "V3eTwBuYbNjF",
        "outputId": "1ca33d83-763a-4a40-c95c-b6f5579d7eed"
      },
      "execution_count": 49,
      "outputs": [
        {
          "output_type": "stream",
          "name": "stdout",
          "text": [
            "+----------+-----+\n",
            "|2021 Squad|count|\n",
            "+----------+-----+\n",
            "|       KKR|   25|\n",
            "|        DC|   25|\n",
            "|        RR|   25|\n",
            "|      NULL|  434|\n",
            "|        MI|   26|\n",
            "|       CSK|   25|\n",
            "|       SRH|   26|\n",
            "|       RCB|   23|\n",
            "|      PBKS|   24|\n",
            "+----------+-----+\n",
            "\n"
          ]
        }
      ]
    },
    {
      "cell_type": "markdown",
      "source": [
        "There are total 8 teams and 434 unsold players."
      ],
      "metadata": {
        "id": "ZI5gZ7uaQLUM"
      }
    },
    {
      "cell_type": "code",
      "source": [
        "#renaming some columns\n",
        "df = df.withColumnRenamed('Base Price','Base_Price')\\\n",
        "      .withColumnRenamed('COST IN ₹ (CR.)','Cost')\\\n",
        "      .withColumnRenamed('2021 Squad','Old Squad')\n",
        "df.show(5)"
      ],
      "metadata": {
        "colab": {
          "base_uri": "https://localhost:8080/"
        },
        "id": "B20vgm6_bNu4",
        "outputId": "01b4f2ee-9a21-4261-c6f8-678787252e0d"
      },
      "execution_count": 51,
      "outputs": [
        {
          "output_type": "stream",
          "name": "stdout",
          "text": [
            "+---+---------------+----------+-----------+----+---------------+---------+--------------+\n",
            "|_c0|         Player|Base_Price|       TYPE|Cost|Cost IN $ (000)|Old Squad|          Team|\n",
            "+---+---------------+----------+-----------+----+---------------+---------+--------------+\n",
            "|  0|    Rashid Khan|Draft Pick|     BOWLER|15.0|         1950.0|      SRH|Gujarat Titans|\n",
            "|  1|  Hardik Pandya|Draft Pick|ALL-ROUNDER|15.0|         1950.0|       MI|Gujarat Titans|\n",
            "|  2|Lockie Ferguson|      2 Cr|     BOWLER|10.0|         1300.0|      KKR|Gujarat Titans|\n",
            "|  3|  Rahul Tewatia|   40 Lakh|ALL-ROUNDER| 9.0|         1170.0|       RR|Gujarat Titans|\n",
            "|  4|   Shubman Gill|Draft Pick|     BATTER| 8.0|         1040.0|      KKR|Gujarat Titans|\n",
            "+---+---------------+----------+-----------+----+---------------+---------+--------------+\n",
            "only showing top 5 rows\n",
            "\n"
          ]
        }
      ]
    },
    {
      "cell_type": "code",
      "source": [
        "df = df.drop('Cost IN $ (000)')\n",
        "df.show(5)"
      ],
      "metadata": {
        "colab": {
          "base_uri": "https://localhost:8080/"
        },
        "id": "KsmATBtvbNyU",
        "outputId": "ef2e1204-0abb-4a1f-ce3e-d0d292981421"
      },
      "execution_count": 52,
      "outputs": [
        {
          "output_type": "stream",
          "name": "stdout",
          "text": [
            "+---+---------------+----------+-----------+----+---------+--------------+\n",
            "|_c0|         Player|Base_Price|       TYPE|Cost|Old Squad|          Team|\n",
            "+---+---------------+----------+-----------+----+---------+--------------+\n",
            "|  0|    Rashid Khan|Draft Pick|     BOWLER|15.0|      SRH|Gujarat Titans|\n",
            "|  1|  Hardik Pandya|Draft Pick|ALL-ROUNDER|15.0|       MI|Gujarat Titans|\n",
            "|  2|Lockie Ferguson|      2 Cr|     BOWLER|10.0|      KKR|Gujarat Titans|\n",
            "|  3|  Rahul Tewatia|   40 Lakh|ALL-ROUNDER| 9.0|       RR|Gujarat Titans|\n",
            "|  4|   Shubman Gill|Draft Pick|     BATTER| 8.0|      KKR|Gujarat Titans|\n",
            "+---+---------------+----------+-----------+----+---------+--------------+\n",
            "only showing top 5 rows\n",
            "\n"
          ]
        }
      ]
    },
    {
      "cell_type": "code",
      "source": [
        "#top 5 players who get paid the most in each category\n",
        "df.select('Player','Cost').where(df.TYPE == 'BATTER').orderBy('Cost', ascending = False).show(5)"
      ],
      "metadata": {
        "colab": {
          "base_uri": "https://localhost:8080/"
        },
        "id": "w8hwS7MxfuL-",
        "outputId": "0ebd8caf-9971-4b3b-b366-0c0f3fb973d7"
      },
      "execution_count": 53,
      "outputs": [
        {
          "output_type": "stream",
          "name": "stdout",
          "text": [
            "+---------------+-----+\n",
            "|         Player| Cost|\n",
            "+---------------+-----+\n",
            "|   Rohit Sharma| 16.0|\n",
            "|    Virat Kohli| 15.0|\n",
            "|Kane Williamson| 14.0|\n",
            "|   Shreyas Iyer|12.25|\n",
            "| Mayank Agarwal| 12.0|\n",
            "+---------------+-----+\n",
            "only showing top 5 rows\n",
            "\n"
          ]
        }
      ]
    },
    {
      "cell_type": "code",
      "source": [
        "df.select('Player','Cost').where(df.TYPE == 'ALL-ROUNDER').orderBy('Cost', ascending = False).show(5)"
      ],
      "metadata": {
        "colab": {
          "base_uri": "https://localhost:8080/"
        },
        "id": "iqQ5cd0RfuQ-",
        "outputId": "2c1f8898-f8e9-4011-e254-bd83dc06becc"
      },
      "execution_count": 54,
      "outputs": [
        {
          "output_type": "stream",
          "name": "stdout",
          "text": [
            "+----------------+----+\n",
            "|          Player|Cost|\n",
            "+----------------+----+\n",
            "| Ravindra Jadeja|16.0|\n",
            "|   Hardik Pandya|15.0|\n",
            "|   Andre Russell|12.0|\n",
            "|Liam Livingstone|11.5|\n",
            "|   Glenn Maxwell|11.0|\n",
            "+----------------+----+\n",
            "only showing top 5 rows\n",
            "\n"
          ]
        }
      ]
    },
    {
      "cell_type": "code",
      "source": [
        "df.select('Player','Cost').where(df.TYPE == 'BOWLER').orderBy('Cost', ascending = False).show(5)"
      ],
      "metadata": {
        "colab": {
          "base_uri": "https://localhost:8080/"
        },
        "id": "tXRSTMx8fuac",
        "outputId": "ca004313-2423-4905-b502-99611293434b"
      },
      "execution_count": 55,
      "outputs": [
        {
          "output_type": "stream",
          "name": "stdout",
          "text": [
            "+---------------+-----+\n",
            "|         Player| Cost|\n",
            "+---------------+-----+\n",
            "|    Rashid Khan| 15.0|\n",
            "|  Deepak Chahar| 14.0|\n",
            "| Jasprit Bumrah| 12.0|\n",
            "| Shardul Thakur|10.75|\n",
            "|Lockie Ferguson| 10.0|\n",
            "+---------------+-----+\n",
            "only showing top 5 rows\n",
            "\n"
          ]
        }
      ]
    },
    {
      "cell_type": "code",
      "source": [
        "df.select('Player','Cost').where(df.TYPE == 'WICKETKEEPER').orderBy('Cost', ascending = False).show(5)"
      ],
      "metadata": {
        "colab": {
          "base_uri": "https://localhost:8080/"
        },
        "id": "Hk_Y-rmsfuii",
        "outputId": "b877b3ca-6010-4787-9c10-94d91393c0ca"
      },
      "execution_count": 56,
      "outputs": [
        {
          "output_type": "stream",
          "name": "stdout",
          "text": [
            "+------------+-----+\n",
            "|      Player| Cost|\n",
            "+------------+-----+\n",
            "|    KL Rahul| 17.0|\n",
            "|Rishabh Pant| 16.0|\n",
            "|Ishan Kishan|15.25|\n",
            "|Sanju Samson| 14.0|\n",
            "|    MS Dhoni| 12.0|\n",
            "+------------+-----+\n",
            "only showing top 5 rows\n",
            "\n"
          ]
        }
      ]
    },
    {
      "cell_type": "code",
      "source": [
        "#the least paid player in each category\n",
        "df.select('Player','Cost').filter((df.TYPE == 'BATTER')&(df.Cost.isNotNull())).orderBy('Cost', ascending = True).show(1)"
      ],
      "metadata": {
        "colab": {
          "base_uri": "https://localhost:8080/"
        },
        "id": "T3k8qFoVKKmk",
        "outputId": "3b5aa76e-7d24-4597-baa5-e3631fdb65f0"
      },
      "execution_count": 57,
      "outputs": [
        {
          "output_type": "stream",
          "name": "stdout",
          "text": [
            "+----------------+----+\n",
            "|          Player|Cost|\n",
            "+----------------+----+\n",
            "|C.Hari Nishaanth| 0.2|\n",
            "+----------------+----+\n",
            "only showing top 1 row\n",
            "\n"
          ]
        }
      ]
    },
    {
      "cell_type": "code",
      "source": [
        "df.select('Player','Cost').filter((df.TYPE == 'ALL-ROUNDER')&(df.Cost.isNotNull())).orderBy('Cost', ascending = True).show(1)"
      ],
      "metadata": {
        "colab": {
          "base_uri": "https://localhost:8080/"
        },
        "id": "fl6vvh44wgkE",
        "outputId": "abf20c0d-0092-41f8-a923-92132699b7f2"
      },
      "execution_count": 58,
      "outputs": [
        {
          "output_type": "stream",
          "name": "stdout",
          "text": [
            "+----------------+----+\n",
            "|          Player|Cost|\n",
            "+----------------+----+\n",
            "|Darshan Nalkande| 0.2|\n",
            "+----------------+----+\n",
            "only showing top 1 row\n",
            "\n"
          ]
        }
      ]
    },
    {
      "cell_type": "code",
      "source": [
        "df.select('Player','Cost').filter((df.TYPE == 'BOWLER')&(df.Cost.isNotNull())).orderBy('Cost', ascending = True).show(1)"
      ],
      "metadata": {
        "colab": {
          "base_uri": "https://localhost:8080/"
        },
        "id": "nn4FuSeNwgxB",
        "outputId": "10441c26-4139-4d31-da03-d12e3b3bf62e"
      },
      "execution_count": 59,
      "outputs": [
        {
          "output_type": "stream",
          "name": "stdout",
          "text": [
            "+---------------+----+\n",
            "|         Player|Cost|\n",
            "+---------------+----+\n",
            "|Simarjeet Singh| 0.2|\n",
            "+---------------+----+\n",
            "only showing top 1 row\n",
            "\n"
          ]
        }
      ]
    },
    {
      "cell_type": "code",
      "source": [
        "df.select('Player','Cost').filter((df.TYPE == 'WICKETKEEPER')&(df.Cost.isNotNull())).orderBy('Cost', ascending = True).show(1)"
      ],
      "metadata": {
        "colab": {
          "base_uri": "https://localhost:8080/"
        },
        "id": "OmRhtUFXwg8u",
        "outputId": "5b53cc96-d23e-4d7b-a978-e641fb16b565"
      },
      "execution_count": 60,
      "outputs": [
        {
          "output_type": "stream",
          "name": "stdout",
          "text": [
            "+--------------+----+\n",
            "|        Player|Cost|\n",
            "+--------------+----+\n",
            "|Baba Indrajith| 0.2|\n",
            "+--------------+----+\n",
            "only showing top 1 row\n",
            "\n"
          ]
        }
      ]
    },
    {
      "cell_type": "markdown",
      "source": [
        "The highest and lowest paid players include:\n",
        "Batsman(Rohit Sharma, C.Hari Nishaanth), Bowler (Rashid Khan, Simarjeet Singh), Wicket Keeper(KL Rahul, Baba Indrajith) and All Rounders(Ravindra Jadehja, Darshan Nalkande)"
      ],
      "metadata": {
        "id": "9UBjMA2PQill"
      }
    },
    {
      "cell_type": "code",
      "source": [
        "#average price of each category\n",
        "from pyspark.sql import functions as func\n",
        "df.groupBy('TYPE').agg(func.round(func.mean('Cost'),2).alias('Average Price')).show()"
      ],
      "metadata": {
        "colab": {
          "base_uri": "https://localhost:8080/"
        },
        "id": "SZFpINQZ_QVX",
        "outputId": "f9c2f6ac-879f-49ba-cdee-c7444f3cce4d"
      },
      "execution_count": 61,
      "outputs": [
        {
          "output_type": "stream",
          "name": "stdout",
          "text": [
            "+------------+-------------+\n",
            "|        TYPE|Average Price|\n",
            "+------------+-------------+\n",
            "|WICKETKEEPER|         5.09|\n",
            "|      BOWLER|         3.07|\n",
            "| ALL-ROUNDER|         3.61|\n",
            "|      BATTER|         4.11|\n",
            "+------------+-------------+\n",
            "\n"
          ]
        }
      ]
    },
    {
      "cell_type": "code",
      "source": [
        "#top 20 highest bidding players in 2021 squad\n",
        "df.select('Player','Old Squad','Cost').where(df.Base_Price == 'Retained').orderBy('Cost', ascending = False).show()"
      ],
      "metadata": {
        "colab": {
          "base_uri": "https://localhost:8080/"
        },
        "id": "2qCczi04_Sep",
        "outputId": "182a7d4f-bf75-4764-9bd4-c7c3e1766da7"
      },
      "execution_count": 62,
      "outputs": [
        {
          "output_type": "stream",
          "name": "stdout",
          "text": [
            "+-------------------+---------+----+\n",
            "|             Player|Old Squad|Cost|\n",
            "+-------------------+---------+----+\n",
            "|    Ravindra Jadeja|      CSK|16.0|\n",
            "|       Rishabh Pant|       DC|16.0|\n",
            "|       Rohit Sharma|       MI|16.0|\n",
            "|        Virat Kohli|      RCB|15.0|\n",
            "|       Sanju Samson|       RR|14.0|\n",
            "|    Kane Williamson|      SRH|14.0|\n",
            "|           MS Dhoni|      CSK|12.0|\n",
            "|      Andre Russell|      KKR|12.0|\n",
            "|     Mayank Agarwal|     PBKS|12.0|\n",
            "|     Jasprit Bumrah|       MI|12.0|\n",
            "|      Glenn Maxwell|      RCB|11.0|\n",
            "|        Jos Buttler|       RR|10.0|\n",
            "|         Axar Patel|       DC| 9.0|\n",
            "|          Moeen Ali|      CSK| 8.0|\n",
            "|     Venkatesh Iyer|      KKR| 8.0|\n",
            "|Varun Chakaravarthy|      KKR| 8.0|\n",
            "|   Suryakumar Yadav|       MI| 8.0|\n",
            "|       Prithvi Shaw|       DC| 7.5|\n",
            "|     Mohammed Siraj|      RCB| 7.0|\n",
            "|      Anrich Nortje|       DC| 6.5|\n",
            "+-------------------+---------+----+\n",
            "only showing top 20 rows\n",
            "\n"
          ]
        }
      ]
    },
    {
      "cell_type": "code",
      "source": [],
      "metadata": {
        "id": "0YNB4CFm_SiC"
      },
      "execution_count": null,
      "outputs": []
    }
  ]
}